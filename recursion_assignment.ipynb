{
 "cells": [
  {
   "cell_type": "markdown",
   "id": "323e49ea-4216-4e30-9145-292e317f92a9",
   "metadata": {},
   "source": [
    "# RECURSION:"
   ]
  },
  {
   "cell_type": "markdown",
   "id": "ddee2ef0-cac8-4d79-a2c7-8da046624975",
   "metadata": {},
   "source": [
    "## 1.Can you explain the logic and working of the Tower of Hanoi algorithm by writing a Java program?\n",
    "## How does the recursion work, and how are the movements of disks between rods accomplished?"
   ]
  },
  {
   "cell_type": "code",
   "execution_count": 3,
   "id": "5cddafa7-5ccc-49f2-84ac-52bb00220d70",
   "metadata": {},
   "outputs": [
    {
     "name": "stdout",
     "output_type": "stream",
     "text": [
      "7\n"
     ]
    }
   ],
   "source": [
    "# To solve the problem using tower of hanoi algorithm ,we first have to define a function which tells \n",
    "#the no. of moves to transfer the discs (n) from A \n",
    "# to C using an auxiliary space B:\n",
    "# the function will be having four arguments :\n",
    "# n = no. of the discs , A = source , C = destination ,B = auxiliary\n",
    "\n",
    "def moves(n,a,c,b):\n",
    "    # base case1 = when there are no discs it will return 0:\n",
    "    if n==0:\n",
    "        return 0\n",
    "    # base case2 = when there is only one disc then no. of moves  will also be one:\n",
    "    if n==1:\n",
    "        return 1\n",
    "    # logic = we have to add up the no. of moves to move (n-1) discs from a->b using c then we will add 1 (1 step in moving the last disc from a->c)\n",
    "    # then at last we will add the no. of moves to move those (n-1) discs from b-> c using a:\n",
    "    # calling the recursion here:\n",
    "    return moves(n-1,a,b,c) + 1 + moves(n-1,b,c,a)\n",
    "\n",
    "# driver code:\n",
    "print(moves(3,'A','C','B')) # output is obtained as 7\n",
    "    "
   ]
  },
  {
   "cell_type": "markdown",
   "id": "4d6b232c-285e-4bb4-91f4-3078f06da5bb",
   "metadata": {},
   "source": [
    "<!-- #Q.2 Given two strings word1 and word2, return the minimum number of operations required to convert word1\n",
    "to word2.\n",
    "Example 1:\n",
    "Input: word1 = \"horse\", word2 = \"ros\"\n",
    "Output: 3\n",
    "Explanation:\n",
    "horse -> rorse (replace 'h' with 'r')\n",
    "rorse -> rose (remove 'r')\n",
    "rose -> ros (remove 'e')\n",
    "Example 2:\n",
    "Input: word1 = \"intention\", word2 = \"execution\"\n",
    "Output: 5\n",
    "Explanation:\n",
    "intention -> inention (remove 't')\n",
    "inention -> enention (replace 'i' with 'e')\n",
    "enention -> exention (replace 'n' with 'x')\n",
    "exention -> exection (replace 'n' with 'c')\n",
    "exection -> execution (insert 'u') -->"
   ]
  },
  {
   "cell_type": "markdown",
   "id": "bf16269a-5200-4fbf-91d0-787e77056fa9",
   "metadata": {
    "tags": []
   },
   "source": [
    "# Q.2 Given two strings word1 and word2, return the minimum number of operations required to convert word1\n",
    "## Example 1:\n",
    "## Input: word1 = \"horse\", word2 = \"ros\"\n",
    "## Output: 3\n",
    "## Explanation:\n",
    "## horse -> rorse (replace 'h' with 'r')\n",
    "## rorse -> rose (remove 'r')\n",
    "## rose -> ros (remove 'e')\n",
    "## Example 2:\n",
    "## Input: word1 = \"intention\", word2 = \"execution\"\n",
    "## Output: 5\n",
    "## Explanation:\n",
    "## intention -> inention (remove 't')\n",
    "## inention -> enention (replace 'i' with 'e')\n",
    "## enention -> exention (replace 'n' with 'x')\n",
    "## exention -> exection (replace 'n' with 'c')\n",
    "## exection -> execution (insert 'u')"
   ]
  },
  {
   "cell_type": "code",
   "execution_count": 3,
   "id": "2c914335-3946-4077-a87d-2181dc4958c3",
   "metadata": {},
   "outputs": [
    {
     "name": "stdout",
     "output_type": "stream",
     "text": [
      "3\n",
      "5\n"
     ]
    }
   ],
   "source": [
    "# to find the no. of operations to convert the string1 to string2:\n",
    "# define a function which have four arguments :\n",
    "#     1->string1,2->string2 and then therir lengths:\n",
    "def editDistance(str1,str2,m,n):\n",
    "    #base case1 = when the str1 is empty then we have to insert all the characters of str2(n) in it to convert it into str2:\n",
    "    # thats why no. of operations will also be n:\n",
    "    if m==0:\n",
    "        return n\n",
    "    # base case2 =  when the str2 is empty then we have to remove all the characters of str1(m)  to convert it into str2:\n",
    "    # thats why no. of operations will also be m:\n",
    "    if n == 0:\n",
    "        return m\n",
    "    # logic = if the last element is same then leave the last one and move to the other elements recursively:\n",
    "    if str1[m-1] == str2[n-1]:\n",
    "        return editDistance(str1,str2,m-1,n-1)\n",
    "    \n",
    "    # now if the last elements are also different then we can apply three types of operations for the conversion:\n",
    "    # first is insertion (m,n-1)\n",
    "    # second is deletion(m-1,n)\n",
    "    # third is replace(m-1,n-1)\n",
    "    # find the min of these and then add one to it:\n",
    "    return 1 + min(editDistance(str1,str2,m,n-1),editDistance(str1,str2,m-1,n),editDistance(str1,str2,m-1,n-1))\n",
    "    \n",
    "# driver code:\n",
    "str1 = \"horse\"\n",
    "str2 = \"ros\"\n",
    "str3 = \"intention\"\n",
    "str4 = \"execution\"\n",
    "print(editDistance(str1,str2,len(str1),len(str2)))\n",
    "print(editDistance(str3,str4,len(str3),len(str4)))\n",
    "    "
   ]
  },
  {
   "cell_type": "markdown",
   "id": "773f6bec-a048-4b43-ae74-595b8ea0b142",
   "metadata": {},
   "source": [
    "## Q. 3 Print the max value of the array [ 13, 1, -3, 22, 5]."
   ]
  },
  {
   "cell_type": "code",
   "execution_count": 35,
   "id": "99e6ecac-203e-4149-b3a1-9485c45ba32f",
   "metadata": {},
   "outputs": [
    {
     "data": {
      "text/plain": [
       "22"
      ]
     },
     "execution_count": 35,
     "metadata": {},
     "output_type": "execute_result"
    }
   ],
   "source": [
    "# to find the maxinmum value from an array:\n",
    "# we have to define a function having arguments as array and its length:\n",
    "def largest(arr,l):\n",
    "    # we are traversing the array in the reverse direction so when there remain only one one element it will return it.\n",
    "    if l == 1:\n",
    "        return arr[0] \n",
    "    # else we have to find the maximum of the last element and value returned by the recursive call of l-1 elemets.\n",
    "    return max(arr[l-1],largest(arr,l-1))\n",
    "\n",
    "# driver code:\n",
    "largest([13, 1, -3, 22, 5],5)"
   ]
  },
  {
   "cell_type": "code",
   "execution_count": 33,
   "id": "f86daea2-3661-45c2-acf0-c6cffc65d075",
   "metadata": {},
   "outputs": [
    {
     "data": {
      "text/plain": [
       "22"
      ]
     },
     "execution_count": 33,
     "metadata": {},
     "output_type": "execute_result"
    }
   ],
   "source": [
    "# iteratively:\n",
    "def largest(arr):\n",
    "    # we will define a variable:\n",
    "    maximum = arr[0]\n",
    "    for i in range(1,len(arr)):\n",
    "        if arr[i]>maximum:\n",
    "            maximum = arr[i]\n",
    "    return maximum\n",
    "\n",
    "# driver code:\n",
    "largest([13, 1, -3, 22, 5])"
   ]
  },
  {
   "cell_type": "markdown",
   "id": "8181839e-f34e-4890-ae64-744ade37eb74",
   "metadata": {},
   "source": [
    "## Q.4 Find the sum of the values of the array [92, 23, 15, -20, 10]."
   ]
  },
  {
   "cell_type": "code",
   "execution_count": 39,
   "id": "91d4f3f8-9ff9-40f3-a3e8-5595f3088fa6",
   "metadata": {},
   "outputs": [
    {
     "data": {
      "text/plain": [
       "120"
      ]
     },
     "execution_count": 39,
     "metadata": {},
     "output_type": "execute_result"
    }
   ],
   "source": [
    "# to obtain the sum recursively - define a function that takes two arguments (one is the array and second is the length of the array:)\n",
    "def sum_rec(arr,l):\n",
    "    # base case = if there is only one element no need to calculate just give the value of that element.\n",
    "    if l == 1:\n",
    "        return arr[0]\n",
    "    # logic = traversing  the array in the reverse direction so that all the elemnts we can get and once it reach the base condition it will give the \n",
    "    # first element an then terminates,\n",
    "    # in return will be the sum of l-1 th element(last) and the value returned by the recursion of l-1 remaining elements:\n",
    "    return arr[l-1] + sum_rec(arr,l-1)\n",
    "\n",
    "# driver code:\n",
    "arr = [92, 23, 15, -20, 10]\n",
    "# finding the sum:\n",
    "sum_rec(arr,len(arr))"
   ]
  },
  {
   "cell_type": "code",
   "execution_count": 23,
   "id": "10f2fe61-2765-4e0a-aed5-fa638f7921e3",
   "metadata": {},
   "outputs": [],
   "source": [
    "# or iterative approach:\n",
    "def sum_all(arr):\n",
    "    s = arr[0]\n",
    "    for i in range(1,len(arr)):\n",
    "        s = s + arr[i]\n",
    "    return s\n",
    "    "
   ]
  },
  {
   "cell_type": "code",
   "execution_count": 40,
   "id": "fd4c08a5-7e98-4681-a0c2-8ad4829b87a1",
   "metadata": {},
   "outputs": [
    {
     "data": {
      "text/plain": [
       "120"
      ]
     },
     "execution_count": 40,
     "metadata": {},
     "output_type": "execute_result"
    }
   ],
   "source": [
    "sum_all([92, 23, 15, -20, 10])"
   ]
  },
  {
   "cell_type": "markdown",
   "id": "b704b19d-0d06-4a4f-82b8-a9d3b8a0e7f4",
   "metadata": {},
   "source": [
    "# Q.5 Given a number n. Print if it is an armstrong number or not.An armstrong number is a number if the sum\n",
    "# of every digit in that number raised to the power of total digits in that number is equal to the number.\n",
    "# Example : 153 = 1^3 + 5^3 + 3^3 = 1 + 125 + 27 = 153 hence 153 is an armstrong number. (Easy)\n",
    "# Input1 : 153\n",
    "# Output1 : Yes\n",
    "# Input 2 : 134\n",
    "# Output2 : No"
   ]
  },
  {
   "cell_type": "code",
   "execution_count": 3,
   "id": "73387a49-7ab5-4faa-8f2c-ea56d1964f38",
   "metadata": {},
   "outputs": [
    {
     "name": "stdout",
     "output_type": "stream",
     "text": [
      "True\n",
      "False\n"
     ]
    }
   ],
   "source": [
    "# firstly we have to define a function in which we will pass the number to check:\n",
    "def armstrong(num):\n",
    "    # initialize the variable to covert that number into string:\n",
    "    numbers = str(num)\n",
    "    # find the length of number:\n",
    "    n = len(numbers)\n",
    "    # an another variable to store the output obtained\n",
    "    output = 0\n",
    "    # initiate the for loop to traverse through the number:\n",
    "    for i in numbers:\n",
    "        # apply the formula of armstrong number condition:\n",
    "        output = output + int(i)**n\n",
    "        # now check if the given number is armstrong no. or not .\n",
    "    if output == int(numbers):\n",
    "        return True\n",
    "    else:\n",
    "        return False\n",
    "        \n",
    "# Driver code:\n",
    "print(armstrong(153))\n",
    "print(armstrong(120))"
   ]
  },
  {
   "cell_type": "markdown",
   "id": "c3d00a60-5ab0-40d1-91ae-3f537f2b48f2",
   "metadata": {},
   "source": [
    "##                           THANK YOU"
   ]
  },
  {
   "cell_type": "code",
   "execution_count": null,
   "id": "6b74b628-f2ad-472f-a298-ded7ff83db9d",
   "metadata": {},
   "outputs": [],
   "source": []
  },
  {
   "cell_type": "code",
   "execution_count": null,
   "id": "25d0ac10-4b9b-4b40-8ed8-6b3cd14a86b6",
   "metadata": {},
   "outputs": [],
   "source": []
  },
  {
   "cell_type": "code",
   "execution_count": null,
   "id": "717aa59c-7083-4f31-acbc-a51e224c940b",
   "metadata": {},
   "outputs": [],
   "source": []
  },
  {
   "cell_type": "code",
   "execution_count": null,
   "id": "74c44583-e53d-45da-b5e5-91d74a261b40",
   "metadata": {},
   "outputs": [],
   "source": []
  },
  {
   "cell_type": "code",
   "execution_count": null,
   "id": "b229c56f-70ad-4f3f-a2ed-99a2a844f192",
   "metadata": {},
   "outputs": [],
   "source": []
  },
  {
   "cell_type": "code",
   "execution_count": null,
   "id": "34815c9b-5352-42e8-8e2c-adb056ac5cdf",
   "metadata": {},
   "outputs": [],
   "source": []
  },
  {
   "cell_type": "code",
   "execution_count": null,
   "id": "931db12a-48bf-4230-8105-ce7992ca8921",
   "metadata": {},
   "outputs": [],
   "source": []
  },
  {
   "cell_type": "code",
   "execution_count": null,
   "id": "1025fb9d-a694-4ee9-afe7-c1c8a51346c2",
   "metadata": {},
   "outputs": [],
   "source": []
  },
  {
   "cell_type": "code",
   "execution_count": null,
   "id": "ad006e93-248c-4eaf-a312-ed0f58977e99",
   "metadata": {},
   "outputs": [],
   "source": []
  },
  {
   "cell_type": "code",
   "execution_count": null,
   "id": "ac5c57c8-33e6-4ea9-9a5c-3c783d68da39",
   "metadata": {},
   "outputs": [],
   "source": []
  },
  {
   "cell_type": "code",
   "execution_count": null,
   "id": "6c132787-554d-41e7-b5e1-5dbb617c8e8e",
   "metadata": {},
   "outputs": [],
   "source": []
  },
  {
   "cell_type": "code",
   "execution_count": null,
   "id": "cf906062-23a3-481f-bb93-3887ff61d256",
   "metadata": {},
   "outputs": [],
   "source": []
  },
  {
   "cell_type": "code",
   "execution_count": null,
   "id": "8bfd7e1a-741f-4f85-9327-f9c48a3fc885",
   "metadata": {},
   "outputs": [],
   "source": []
  },
  {
   "cell_type": "code",
   "execution_count": null,
   "id": "60022486-5294-4ddc-bd19-ce9d16ee129a",
   "metadata": {},
   "outputs": [],
   "source": []
  }
 ],
 "metadata": {
  "kernelspec": {
   "display_name": "Python 3 (ipykernel)",
   "language": "python",
   "name": "python3"
  },
  "language_info": {
   "codemirror_mode": {
    "name": "ipython",
    "version": 3
   },
   "file_extension": ".py",
   "mimetype": "text/x-python",
   "name": "python",
   "nbconvert_exporter": "python",
   "pygments_lexer": "ipython3",
   "version": "3.10.8"
  }
 },
 "nbformat": 4,
 "nbformat_minor": 5
}
